{
 "cells": [
  {
   "cell_type": "code",
   "execution_count": 1,
   "metadata": {},
   "outputs": [
    {
     "name": "stdout",
     "output_type": "stream",
     "text": [
      "Failed to fetch data: 403\n",
      "{'message': 'Must have push access to repository', 'documentation_url': 'https://docs.github.com/rest/metrics/traffic#get-page-views', 'status': '403'}\n"
     ]
    }
   ],
   "source": [
    "import requests\n",
    "from dotenv import load_dotenv\n",
    "import os\n",
    "\n",
    "# Load environment variables from .env\n",
    "load_dotenv()\n",
    "\n",
    "# GitHub username and repository\n",
    "username = \"neonwatty\"\n",
    "repository = \"meme-search\"\n",
    "\n",
    "# Load the personal access token from .env\n",
    "access_token = os.getenv(\"GITHUB_TOKEN\")\n",
    "\n",
    "if not access_token:\n",
    "    raise ValueError(\"GitHub token not found. Please set GITHUB_TOKEN in the .env file.\")\n",
    "\n",
    "# GitHub API URL for traffic views\n",
    "url = f\"https://api.github.com/repos/{username}/{repository}/traffic/views\"\n",
    "\n",
    "# Headers with authentication\n",
    "headers = {\n",
    "    \"Authorization\": f\"token {access_token}\",\n",
    "    \"Accept\": \"application/vnd.github+json\"\n",
    "}\n",
    "\n",
    "# Make the GET request\n",
    "response = requests.get(url, headers=headers)\n",
    "\n",
    "# Check the response\n",
    "if response.status_code == 200:\n",
    "    data = response.json()\n",
    "    print(\"Traffic Statistics (Last 14 Days):\")\n",
    "    print(f\"Count: {data['count']}\")  # Total views\n",
    "    print(f\"Uniques: {data['uniques']}\")  # Unique viewers\n",
    "    print(\"Details:\")\n",
    "    for view in data['views']:\n",
    "        print(f\"Date: {view['timestamp']}, Count: {view['count']}, Uniques: {view['uniques']}\")\n",
    "else:\n",
    "    print(f\"Failed to fetch data: {response.status_code}\")\n",
    "    print(response.json())\n"
   ]
  },
  {
   "cell_type": "markdown",
   "metadata": {},
   "source": []
  },
  {
   "cell_type": "code",
   "execution_count": null,
   "metadata": {},
   "outputs": [],
   "source": []
  }
 ],
 "metadata": {
  "kernelspec": {
   "display_name": "python=3.12",
   "language": "python",
   "name": "python3"
  },
  "language_info": {
   "codemirror_mode": {
    "name": "ipython",
    "version": 3
   },
   "file_extension": ".py",
   "mimetype": "text/x-python",
   "name": "python",
   "nbconvert_exporter": "python",
   "pygments_lexer": "ipython3",
   "version": "3.12.0"
  }
 },
 "nbformat": 4,
 "nbformat_minor": 2
}
