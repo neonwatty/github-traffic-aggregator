{
 "cells": [
  {
   "cell_type": "code",
   "execution_count": 14,
   "metadata": {},
   "outputs": [],
   "source": [
    "import requests\n",
    "from dotenv import load_dotenv\n",
    "import os\n",
    "\n",
    "# Load environment variables from .env\n",
    "load_dotenv()\n",
    "\n",
    "class GithubApis:\n",
    "    def __init__(self):\n",
    "        # GitHub username and repository\n",
    "        self.username = \"neonwatty\"\n",
    "        self.repository = \"meme-search\"\n",
    "\n",
    "        # Load the personal access token from .env\n",
    "        self.access_token = os.getenv(\"GITHUB_TOKEN\")\n",
    "        if not self.access_token:\n",
    "            raise ValueError(\"GitHub token not found. Please set GITHUB_TOKEN in the .env file.\")\n",
    "\n",
    "        # Form headers with authentication\n",
    "        self.headers = {\n",
    "            \"Authorization\": f\"token {self.access_token}\",\n",
    "            \"Accept\": \"application/vnd.github+json\"\n",
    "        }\n",
    "        \n",
    "    def get_data(self, endpoint):\n",
    "        # GitHub API URL for endpoint\n",
    "        url = f\"https://api.github.com/repos/{self.username}/{self.repository}/{endpoint}\"\n",
    "\n",
    "        # Make the GET request\n",
    "        response = requests.get(url, headers=self.headers)\n",
    "\n",
    "        # Check the response\n",
    "        if response.status_code == 200:\n",
    "            self.traffic_data = response.json()\n",
    "            return self.traffic_data\n",
    "        else:\n",
    "            print(f\"Failed to fetch data for endpoint {endpoint} - received: {response.status_code}\")\n",
    "            print(response.json())"
   ]
  },
  {
   "cell_type": "code",
   "execution_count": 17,
   "metadata": {},
   "outputs": [],
   "source": [
    "endpoint = 'traffic/views'\n",
    "endpoint = 'traffic/clones'\n",
    "data_fetcher = GithubApis()\n",
    "traffic_data = data_fetcher.get_data(endpoint)"
   ]
  },
  {
   "cell_type": "code",
   "execution_count": 18,
   "metadata": {},
   "outputs": [
    {
     "data": {
      "text/plain": [
       "{'count': 182,\n",
       " 'uniques': 55,\n",
       " 'views': [{'timestamp': '2024-12-28T00:00:00Z', 'count': 33, 'uniques': 5},\n",
       "  {'timestamp': '2024-12-29T00:00:00Z', 'count': 4, 'uniques': 2},\n",
       "  {'timestamp': '2024-12-30T00:00:00Z', 'count': 3, 'uniques': 3},\n",
       "  {'timestamp': '2024-12-31T00:00:00Z', 'count': 2, 'uniques': 2},\n",
       "  {'timestamp': '2025-01-01T00:00:00Z', 'count': 8, 'uniques': 5},\n",
       "  {'timestamp': '2025-01-02T00:00:00Z', 'count': 14, 'uniques': 10},\n",
       "  {'timestamp': '2025-01-03T00:00:00Z', 'count': 5, 'uniques': 5},\n",
       "  {'timestamp': '2025-01-04T00:00:00Z', 'count': 10, 'uniques': 4},\n",
       "  {'timestamp': '2025-01-05T00:00:00Z', 'count': 12, 'uniques': 8},\n",
       "  {'timestamp': '2025-01-06T00:00:00Z', 'count': 5, 'uniques': 3},\n",
       "  {'timestamp': '2025-01-07T00:00:00Z', 'count': 38, 'uniques': 2},\n",
       "  {'timestamp': '2025-01-08T00:00:00Z', 'count': 11, 'uniques': 6},\n",
       "  {'timestamp': '2025-01-09T00:00:00Z', 'count': 6, 'uniques': 3},\n",
       "  {'timestamp': '2025-01-10T00:00:00Z', 'count': 5, 'uniques': 4},\n",
       "  {'timestamp': '2025-01-11T00:00:00Z', 'count': 26, 'uniques': 2}]}"
      ]
     },
     "execution_count": 18,
     "metadata": {},
     "output_type": "execute_result"
    }
   ],
   "source": [
    "traffic_data"
   ]
  },
  {
   "cell_type": "code",
   "execution_count": 7,
   "metadata": {},
   "outputs": [
    {
     "data": {
      "text/plain": [
       "64"
      ]
     },
     "execution_count": 7,
     "metadata": {},
     "output_type": "execute_result"
    }
   ],
   "source": [
    "sum([v['uniques'] for v in data['views']])"
   ]
  },
  {
   "cell_type": "markdown",
   "metadata": {},
   "source": []
  },
  {
   "cell_type": "code",
   "execution_count": null,
   "metadata": {},
   "outputs": [],
   "source": []
  }
 ],
 "metadata": {
  "kernelspec": {
   "display_name": "python=3.12",
   "language": "python",
   "name": "python3"
  },
  "language_info": {
   "codemirror_mode": {
    "name": "ipython",
    "version": 3
   },
   "file_extension": ".py",
   "mimetype": "text/x-python",
   "name": "python",
   "nbconvert_exporter": "python",
   "pygments_lexer": "ipython3",
   "version": "3.12.0"
  }
 },
 "nbformat": 4,
 "nbformat_minor": 2
}
