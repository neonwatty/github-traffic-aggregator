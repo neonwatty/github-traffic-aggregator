{
 "cells": [
  {
   "cell_type": "code",
   "execution_count": 14,
   "metadata": {},
   "outputs": [],
   "source": [
    "import requests\n",
    "from dotenv import load_dotenv\n",
    "import os\n",
    "\n",
    "# Load environment variables from .env\n",
    "load_dotenv()\n",
    "\n",
    "class GithubApis:\n",
    "    def __init__(self):\n",
    "        # GitHub username and repository\n",
    "        self.username = \"neonwatty\"\n",
    "        self.repository = \"meme-search\"\n",
    "\n",
    "        # Load the personal access token from .env\n",
    "        self.access_token = os.getenv(\"GITHUB_TOKEN\")\n",
    "        if not self.access_token:\n",
    "            raise ValueError(\"GitHub token not found. Please set GITHUB_TOKEN in the .env file.\")\n",
    "\n",
    "        # Form headers with authentication\n",
    "        self.headers = {\n",
    "            \"Authorization\": f\"token {self.access_token}\",\n",
    "            \"Accept\": \"application/vnd.github+json\"\n",
    "        }\n",
    "        \n",
    "    def get_data(self, endpoint):\n",
    "        # GitHub API URL for endpoint\n",
    "        url = f\"https://api.github.com/repos/{self.username}/{self.repository}/{endpoint}\"\n",
    "\n",
    "        # Make the GET request\n",
    "        response = requests.get(url, headers=self.headers)\n",
    "\n",
    "        # Check the response\n",
    "        if response.status_code == 200:\n",
    "            self.traffic_data = response.json()\n",
    "            return self.traffic_data\n",
    "        else:\n",
    "            print(f\"Failed to fetch data for endpoint {endpoint} - received: {response.status_code}\")\n",
    "            print(response.json())"
   ]
  },
  {
   "cell_type": "code",
   "execution_count": 21,
   "metadata": {},
   "outputs": [],
   "source": [
    "# endpoint for views\n",
    "endpoint = 'traffic/views'\n",
    "\n",
    "# endpoint for clones\n",
    "endpoint = 'traffic/clones'\n",
    "\n",
    "# endpoint for top referral references\n",
    "endpoint = 'traffic/popular/referrers'\n",
    "\n",
    "# endpoint for popular paths\n",
    "endpoint = 'traffic/popular/paths'\n",
    "\n",
    "data_fetcher = GithubApis()\n",
    "data = data_fetcher.get_data(endpoint)"
   ]
  },
  {
   "cell_type": "code",
   "execution_count": 22,
   "metadata": {},
   "outputs": [
    {
     "data": {
      "text/plain": [
       "[{'path': '/neonwatty/meme-search',\n",
       "  'title': 'neonwatty/meme-search: The open source Meme Search Engine and Finder. Free an...',\n",
       "  'count': 69,\n",
       "  'uniques': 46},\n",
       " {'path': '/neonwatty/meme-search/graphs/traffic',\n",
       "  'title': 'Traffic · neonwatty/meme-search',\n",
       "  'count': 5,\n",
       "  'uniques': 1},\n",
       " {'path': '/neonwatty/meme-search/tree/landing-page',\n",
       "  'title': 'neonwatty/meme-search at landing-page',\n",
       "  'count': 5,\n",
       "  'uniques': 1},\n",
       " {'path': '/neonwatty/meme-search/blob/main/docker-compose-pro.yml',\n",
       "  'title': 'meme-search/docker-compose-pro.yml at main · neonwatty/meme-search',\n",
       "  'count': 4,\n",
       "  'uniques': 1},\n",
       " {'path': '/neonwatty/meme-search/tree/main/meme_search',\n",
       "  'title': 'meme-search/meme_search at main · neonwatty/meme-search · GitHub',\n",
       "  'count': 3,\n",
       "  'uniques': 2},\n",
       " {'path': '/neonwatty/meme-search/blob/landing-page/index.html',\n",
       "  'title': 'meme-search/index.html at landing-page · neonwatty/meme-search',\n",
       "  'count': 3,\n",
       "  'uniques': 1},\n",
       " {'path': '/neonwatty/meme-search/pulse',\n",
       "  'title': 'Pulse · neonwatty/meme-search',\n",
       "  'count': 3,\n",
       "  'uniques': 1},\n",
       " {'path': '/neonwatty/meme-search/tree/landing-page-update',\n",
       "  'title': 'neonwatty/meme-search at landing-page-update',\n",
       "  'count': 3,\n",
       "  'uniques': 1},\n",
       " {'path': '/neonwatty/meme-search/branches',\n",
       "  'title': 'Branches · neonwatty/meme-search',\n",
       "  'count': 2,\n",
       "  'uniques': 1},\n",
       " {'path': '/neonwatty/meme-search/discussions/50',\n",
       "  'title': 'How do I initiate an index job? · neonwatty/meme-search · Discussion #50',\n",
       "  'count': 2,\n",
       "  'uniques': 1}]"
      ]
     },
     "execution_count": 22,
     "metadata": {},
     "output_type": "execute_result"
    }
   ],
   "source": [
    "data"
   ]
  },
  {
   "cell_type": "code",
   "execution_count": 7,
   "metadata": {},
   "outputs": [
    {
     "data": {
      "text/plain": [
       "64"
      ]
     },
     "execution_count": 7,
     "metadata": {},
     "output_type": "execute_result"
    }
   ],
   "source": [
    "sum([v['uniques'] for v in data['views']])"
   ]
  },
  {
   "cell_type": "markdown",
   "metadata": {},
   "source": []
  },
  {
   "cell_type": "code",
   "execution_count": null,
   "metadata": {},
   "outputs": [],
   "source": []
  }
 ],
 "metadata": {
  "kernelspec": {
   "display_name": "python=3.12",
   "language": "python",
   "name": "python3"
  },
  "language_info": {
   "codemirror_mode": {
    "name": "ipython",
    "version": 3
   },
   "file_extension": ".py",
   "mimetype": "text/x-python",
   "name": "python",
   "nbconvert_exporter": "python",
   "pygments_lexer": "ipython3",
   "version": "3.12.0"
  }
 },
 "nbformat": 4,
 "nbformat_minor": 2
}
